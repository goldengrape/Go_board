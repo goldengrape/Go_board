{
 "cells": [
  {
   "cell_type": "code",
   "execution_count": 1,
   "metadata": {},
   "outputs": [],
   "source": [
    "import numpy as np"
   ]
  },
  {
   "cell_type": "code",
   "execution_count": null,
   "metadata": {},
   "outputs": [],
   "source": []
  },
  {
   "cell_type": "code",
   "execution_count": 2,
   "metadata": {},
   "outputs": [],
   "source": [
    "N=4\n",
    "show_char={1:'●', -1:'○', 0:\"+\" }"
   ]
  },
  {
   "cell_type": "code",
   "execution_count": 3,
   "metadata": {},
   "outputs": [],
   "source": [
    "class Point():\n",
    "    def __init__(self,row, col, color):\n",
    "        self.row=row\n",
    "        self.col=col\n",
    "        self.color=color\n",
    "\n",
    "        self.neighbour_pos ={\"up\": (self.row-1, self.col),\n",
    "                        \"down\":(self.row+1, self.col),\n",
    "                        \"left\":(self.row, self.col-1),\n",
    "                        \"right\":(self.row,self.col+1)}\n",
    "        self.belong_group=None\n",
    "        self.company=set()\n",
    "        self.neighbour=set()\n",
    "        self.self_qi=set()\n",
    "        self.group_qi=set()\n",
    "    def join_group(self, group):\n",
    "        if self.color==0:\n",
    "            return False\n",
    "        if group is None:\n",
    "            return False\n",
    "        elif self.belong_group is None:\n",
    "            self.belong_group = group\n",
    "            self.group_qi=self.belong_group.group_qi\n",
    "            group.add_piece(self)\n",
    "            return True\n",
    "        elif self.belong_group==group:\n",
    "            return True\n",
    "        return False\n",
    "\n",
    "    def set_by_board(self,board):\n",
    "        if self.color==0:\n",
    "            return \n",
    "        neighbour_list=list(self.neighbour_pos.values())\n",
    "        if self.row ==0:\n",
    "            neighbour_list.remove(self.neighbour_pos[\"up\"])\n",
    "        if self.row == board.row_max-1:\n",
    "            neighbour_list.remove(self.neighbour_pos[\"down\"])\n",
    "        if self.col ==0:\n",
    "            neighbour_list.remove(self.neighbour_pos[\"left\"])\n",
    "        if self.col == board.col_max-1:\n",
    "            neighbour_list.remove(self.neighbour_pos[\"right\"])\n",
    "        self.neighbour=set([board.get_point(row, col) for (row, col) in neighbour_list])\n",
    "        \n",
    "        \n",
    "        for p in self.neighbour:\n",
    "            if p.color == self.color:\n",
    "                self.company.add(p)\n",
    "            elif p.color ==0:\n",
    "                self.self_qi.add(p)\n",
    "        if self.belong_group is not None:\n",
    "            self.group_qi=self.belong_group.group_qi\n",
    "                \n",
    "    def get_qi(self):   \n",
    "        return len(self.self_qi)\n",
    "    def get_group_qi(self):\n",
    "        return len(self.group_qi)\n",
    "    def __str__(self):\n",
    "        return \"({},{},{})\".format(self.row,self.col, show_char[self.color])\n",
    "    __repr__ = __str__"
   ]
  },
  {
   "cell_type": "code",
   "execution_count": 38,
   "metadata": {},
   "outputs": [],
   "source": [
    "class Board():\n",
    "    def __init__(self, row_max, col_max):\n",
    "        \n",
    "        self.point_list=[Point(row,col,0) for row in range(row_max) for col in range(col_max)]\n",
    "        self.row_max=row_max\n",
    "        self.col_max=col_max\n",
    "        self.set_all_point()\n",
    "        \n",
    "    def get_point(self,row,col):\n",
    "        index = row* self.row_max+col\n",
    "        return self.point_list[index]\n",
    "    \n",
    "    def set_point(self, row, col, color):\n",
    "        index = row* self.row_max+col\n",
    "        self.point_list[index].color=color\n",
    "        self.set_all_point()\n",
    "\n",
    "    def set_all_point(self):\n",
    "        for i in range(2): # somthing magic, I don't know why twice\n",
    "            for p in self.point_list:\n",
    "                p.set_by_board(self)\n",
    "            for p in self.point_list:\n",
    "                if not any([p.join_group(px.belong_group) for px in p.company]):\n",
    "                    p.join_group(Piece_group())\n",
    "        for p in self.point_list:\n",
    "            if p.get_group_qi()==0:\n",
    "                p.color=0\n",
    "        \n",
    "           \n",
    "    def display(self, type=\"color\"):\n",
    "        for row in range(self.row_max):\n",
    "            for col in range(self.col_max):\n",
    "                p=self.get_point(row,col)\n",
    "                if type==\"color\":\n",
    "                    print(show_char[p.color], end=\" \")\n",
    "                elif type==\"self_qi\":\n",
    "                    print(p.get_qi(), end=\" \")\n",
    "                elif type==\"group_qi\":\n",
    "                    print(p.get_group_qi(), end=\" \")\n",
    "                else:\n",
    "                    pass\n",
    "            print()\n",
    "        print(\"............\")"
   ]
  },
  {
   "cell_type": "code",
   "execution_count": 39,
   "metadata": {},
   "outputs": [],
   "source": [
    "class Piece_group():\n",
    "    def __init__(self):\n",
    "        self.group_qi=set()\n",
    "        self.piece_set=set()\n",
    "        self.group_color=0\n",
    "    def add_piece(self, point):\n",
    "        self.piece_set.add(point)\n",
    "        self.group_qi=self.group_qi.union(point.self_qi)\n",
    "        point.belong_group=self\n",
    "    def __str__(self):\n",
    "        str_list=[p.__str__() for p in self.piece_set]\n",
    "        return \"group \"+\",\".join(str_list)\n",
    "    __repr__ = __str__"
   ]
  },
  {
   "cell_type": "code",
   "execution_count": 42,
   "metadata": {},
   "outputs": [
    {
     "name": "stdout",
     "output_type": "stream",
     "text": [
      "○ + + + \n",
      "● ○ + + \n",
      "+ + + + \n",
      "+ + + + \n",
      "............\n",
      "2 0 0 0 \n",
      "2 3 0 0 \n",
      "0 0 0 0 \n",
      "0 0 0 0 \n",
      "............\n",
      "\n",
      "○ ● + + \n",
      "● ○ + + \n",
      "+ + + + \n",
      "+ + + + \n",
      "............\n",
      "2 1 0 0 \n",
      "2 3 0 0 \n",
      "0 0 0 0 \n",
      "0 0 0 0 \n",
      "............\n",
      "\n",
      "○ ● + + \n",
      "● ○ + + \n",
      "+ + + + \n",
      "+ + + + \n",
      "............\n",
      "2 1 0 0 \n",
      "2 3 0 0 \n",
      "0 0 0 0 \n",
      "0 0 0 0 \n",
      "............\n"
     ]
    }
   ],
   "source": [
    "board=Board(N,N)\n",
    "board.set_point(0,0,-1)\n",
    "board.set_point(1,0,1)\n",
    "board.set_point(1,1,-1)\n",
    "\n",
    "board.set_all_point()\n",
    "board.display(type=\"color\")\n",
    "board.display(type=\"group_qi\")\n",
    "print()\n",
    "\n",
    "board.set_point(0,1,1)\n",
    "board.set_all_point()\n",
    "board.display(type=\"color\")\n",
    "board.display(type=\"group_qi\")\n",
    "print()\n",
    "\n",
    "board.set_all_point()\n",
    "board.display(type=\"color\")\n",
    "board.display(type=\"group_qi\")\n",
    "\n"
   ]
  },
  {
   "cell_type": "code",
   "execution_count": 43,
   "metadata": {},
   "outputs": [],
   "source": [
    "p0=board.get_point(0,0)\n",
    "p1=board.get_point(0,1)"
   ]
  },
  {
   "cell_type": "code",
   "execution_count": 44,
   "metadata": {},
   "outputs": [
    {
     "data": {
      "text/plain": [
       "{(0,2,+)}"
      ]
     },
     "execution_count": 44,
     "metadata": {},
     "output_type": "execute_result"
    }
   ],
   "source": [
    "p1.belong_group.group_qi"
   ]
  },
  {
   "cell_type": "code",
   "execution_count": 47,
   "metadata": {},
   "outputs": [
    {
     "data": {
      "text/plain": [
       "group (0,0,○)"
      ]
     },
     "execution_count": 47,
     "metadata": {},
     "output_type": "execute_result"
    }
   ],
   "source": [
    "p0.belong_group"
   ]
  },
  {
   "cell_type": "code",
   "execution_count": 46,
   "metadata": {},
   "outputs": [
    {
     "data": {
      "text/plain": [
       "set()"
      ]
     },
     "execution_count": 46,
     "metadata": {},
     "output_type": "execute_result"
    }
   ],
   "source": []
  },
  {
   "cell_type": "code",
   "execution_count": null,
   "metadata": {},
   "outputs": [],
   "source": []
  }
 ],
 "metadata": {
  "kernelspec": {
   "display_name": "Python 3",
   "language": "python",
   "name": "python3"
  },
  "language_info": {
   "codemirror_mode": {
    "name": "ipython",
    "version": 3
   },
   "file_extension": ".py",
   "mimetype": "text/x-python",
   "name": "python",
   "nbconvert_exporter": "python",
   "pygments_lexer": "ipython3",
   "version": "3.6.8"
  }
 },
 "nbformat": 4,
 "nbformat_minor": 4
}
